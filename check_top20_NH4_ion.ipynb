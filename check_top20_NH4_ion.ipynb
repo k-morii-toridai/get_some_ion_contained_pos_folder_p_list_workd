{
 "cells": [
  {
   "cell_type": "code",
   "execution_count": 1,
   "id": "fdf79a16-e42d-4ec1-a8d0-69c61ae127af",
   "metadata": {
    "tags": []
   },
   "outputs": [],
   "source": [
    "import numpy as np"
   ]
  },
  {
   "cell_type": "code",
   "execution_count": 2,
   "id": "595dcbef-4df2-4ae7-9859-e0cc9ff3dbd0",
   "metadata": {
    "tags": []
   },
   "outputs": [],
   "source": [
    "NH4_pathes = np.load('NH4_contained_poscar_folder_path_list.npy', allow_pickle=True)"
   ]
  },
  {
   "cell_type": "code",
   "execution_count": 4,
   "id": "f9bd72c0-990c-48fc-997d-5e7fc106dd31",
   "metadata": {
    "tags": []
   },
   "outputs": [],
   "source": [
    "import os\n",
    "\n",
    "NH4_p_list = ['E:' + str(p)[25:] + '/POSCAR' for p in NH4_pathes]"
   ]
  },
  {
   "cell_type": "code",
   "execution_count": 7,
   "id": "a60a5e16-5b02-4d85-a1af-422b47d1ed29",
   "metadata": {
    "tags": []
   },
   "outputs": [
    {
     "data": {
      "text/plain": [
       "['E:/cif/9/01/50/9015028/POSCAR',\n",
       " 'E:/cif/9/01/50/9015049/POSCAR',\n",
       " 'E:/cif/9/01/55/9015527/POSCAR',\n",
       " 'E:/cif/9/01/57/9015719/POSCAR',\n",
       " 'E:/cif/9/01/58/9015825/POSCAR',\n",
       " 'E:/cif/9/01/59/9015990/POSCAR',\n",
       " 'E:/cif/9/01/63/9016395/POSCAR',\n",
       " 'E:/cif/9/01/66/9016626/POSCAR',\n",
       " 'E:/cif/9/01/72/9017292/POSCAR',\n",
       " 'E:/cif/9/01/73/9017315/POSCAR']"
      ]
     },
     "execution_count": 7,
     "metadata": {},
     "output_type": "execute_result"
    }
   ],
   "source": [
    "NH4_p_list[-10:]"
   ]
  }
 ],
 "metadata": {
  "kernelspec": {
   "display_name": "Python 3 (ipykernel)",
   "language": "python",
   "name": "python3"
  },
  "language_info": {
   "codemirror_mode": {
    "name": "ipython",
    "version": 3
   },
   "file_extension": ".py",
   "mimetype": "text/x-python",
   "name": "python",
   "nbconvert_exporter": "python",
   "pygments_lexer": "ipython3",
   "version": "3.10.12"
  }
 },
 "nbformat": 4,
 "nbformat_minor": 5
}
