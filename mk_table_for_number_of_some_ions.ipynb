{
 "cells": [
  {
   "cell_type": "code",
   "execution_count": 74,
   "id": "a60c6e9e-e6b1-41e5-884b-d276fa09c1ba",
   "metadata": {
    "tags": []
   },
   "outputs": [],
   "source": [
    "import os\n",
    "from pathlib import Path\n",
    "\n",
    "import numpy as np\n",
    "import pandas as pd\n",
    "import matplotlib.pyplot as plt"
   ]
  },
  {
   "cell_type": "code",
   "execution_count": 75,
   "id": "9f20c311-4abe-438a-b206-fea25362d471",
   "metadata": {
    "tags": []
   },
   "outputs": [],
   "source": [
    "cwd_p = Path(os.getcwd())\n",
    "npy_pathes = [p for p in cwd_p.iterdir() if '.npy' in str(p)]\n",
    "npy_f_names = [os.path.split(p)[1] for p in npy_pathes]\n",
    "ion_names = [f.split('_')[0] for f in npy_f_names]"
   ]
  },
  {
   "cell_type": "code",
   "execution_count": 76,
   "id": "02f8f302-ca1a-4c8e-a434-29af7d8c36b6",
   "metadata": {
    "tags": []
   },
   "outputs": [],
   "source": [
    "number_of_ion = [len(np.load(p, allow_pickle=True)) for p in npy_pathes]"
   ]
  },
  {
   "cell_type": "code",
   "execution_count": 77,
   "id": "de4080c3-eb58-4ea4-b81f-0a062af1fd3b",
   "metadata": {
    "tags": []
   },
   "outputs": [],
   "source": [
    "ion_name_count_dict = dict([pair for pair in zip(ion_names, number_of_ion)])"
   ]
  },
  {
   "cell_type": "code",
   "execution_count": 78,
   "id": "4325d977-3dcd-437d-b07f-079fc1abe113",
   "metadata": {
    "tags": []
   },
   "outputs": [
    {
     "data": {
      "text/html": [
       "<div>\n",
       "<style scoped>\n",
       "    .dataframe tbody tr th:only-of-type {\n",
       "        vertical-align: middle;\n",
       "    }\n",
       "\n",
       "    .dataframe tbody tr th {\n",
       "        vertical-align: top;\n",
       "    }\n",
       "\n",
       "    .dataframe thead th {\n",
       "        text-align: right;\n",
       "    }\n",
       "</style>\n",
       "<table border=\"1\" class=\"dataframe\">\n",
       "  <thead>\n",
       "    <tr style=\"text-align: right;\">\n",
       "      <th></th>\n",
       "      <th>Name of ion</th>\n",
       "      <th>Number of ion</th>\n",
       "    </tr>\n",
       "  </thead>\n",
       "  <tbody>\n",
       "    <tr>\n",
       "      <th>0</th>\n",
       "      <td>AlCl4</td>\n",
       "      <td>170</td>\n",
       "    </tr>\n",
       "    <tr>\n",
       "      <th>1</th>\n",
       "      <td>BF4</td>\n",
       "      <td>2789</td>\n",
       "    </tr>\n",
       "    <tr>\n",
       "      <th>2</th>\n",
       "      <td>BH4</td>\n",
       "      <td>240</td>\n",
       "    </tr>\n",
       "    <tr>\n",
       "      <th>3</th>\n",
       "      <td>BrO3</td>\n",
       "      <td>1</td>\n",
       "    </tr>\n",
       "    <tr>\n",
       "      <th>4</th>\n",
       "      <td>ClO3</td>\n",
       "      <td>41</td>\n",
       "    </tr>\n",
       "    <tr>\n",
       "      <th>5</th>\n",
       "      <td>ClO4</td>\n",
       "      <td>4209</td>\n",
       "    </tr>\n",
       "    <tr>\n",
       "      <th>6</th>\n",
       "      <td>CO3</td>\n",
       "      <td>1290</td>\n",
       "    </tr>\n",
       "    <tr>\n",
       "      <th>7</th>\n",
       "      <td>IO3</td>\n",
       "      <td>201</td>\n",
       "    </tr>\n",
       "    <tr>\n",
       "      <th>8</th>\n",
       "      <td>MnO4</td>\n",
       "      <td>45</td>\n",
       "    </tr>\n",
       "    <tr>\n",
       "      <th>9</th>\n",
       "      <td>NH4</td>\n",
       "      <td>799</td>\n",
       "    </tr>\n",
       "    <tr>\n",
       "      <th>10</th>\n",
       "      <td>NO2</td>\n",
       "      <td>12407</td>\n",
       "    </tr>\n",
       "    <tr>\n",
       "      <th>11</th>\n",
       "      <td>NO3</td>\n",
       "      <td>5242</td>\n",
       "    </tr>\n",
       "    <tr>\n",
       "      <th>12</th>\n",
       "      <td>PH4</td>\n",
       "      <td>0</td>\n",
       "    </tr>\n",
       "    <tr>\n",
       "      <th>13</th>\n",
       "      <td>PtBr6</td>\n",
       "      <td>5</td>\n",
       "    </tr>\n",
       "    <tr>\n",
       "      <th>14</th>\n",
       "      <td>PtCl6</td>\n",
       "      <td>57</td>\n",
       "    </tr>\n",
       "    <tr>\n",
       "      <th>15</th>\n",
       "      <td>PtF6</td>\n",
       "      <td>13</td>\n",
       "    </tr>\n",
       "    <tr>\n",
       "      <th>16</th>\n",
       "      <td>PtI6</td>\n",
       "      <td>6</td>\n",
       "    </tr>\n",
       "  </tbody>\n",
       "</table>\n",
       "</div>"
      ],
      "text/plain": [
       "   Name of ion  Number of ion\n",
       "0        AlCl4            170\n",
       "1          BF4           2789\n",
       "2          BH4            240\n",
       "3         BrO3              1\n",
       "4         ClO3             41\n",
       "5         ClO4           4209\n",
       "6          CO3           1290\n",
       "7          IO3            201\n",
       "8         MnO4             45\n",
       "9          NH4            799\n",
       "10         NO2          12407\n",
       "11         NO3           5242\n",
       "12         PH4              0\n",
       "13       PtBr6              5\n",
       "14       PtCl6             57\n",
       "15        PtF6             13\n",
       "16        PtI6              6"
      ]
     },
     "execution_count": 78,
     "metadata": {},
     "output_type": "execute_result"
    }
   ],
   "source": [
    "df_ion_name_count = pd.DataFrame(list(ion_name_count_dict.items()), columns=['Name of ion', 'Number of ion'])\n",
    "df_ion_name_count"
   ]
  },
  {
   "cell_type": "code",
   "execution_count": 79,
   "id": "7d4fce64-9933-49ed-b50d-b25e821a56b1",
   "metadata": {
    "tags": []
   },
   "outputs": [],
   "source": [
    "df_ion_name_count.to_csv('tabel_ion_name_count.csv', index=False)"
   ]
  },
  {
   "cell_type": "code",
   "execution_count": 80,
   "id": "c4495b98-84ba-4c1b-b620-fed2d647969b",
   "metadata": {
    "tags": []
   },
   "outputs": [],
   "source": [
    "def TablePlot(df, w, h, outputPath):\n",
    "    fig, ax = plt.subplots(figsize=(w, h))\n",
    "    ax.axis('off')\n",
    "    ax.table(df.values, colLabels=df.columns, loc='center', bbox=[0, 0, 1, 1])\n",
    "    plt.savefig(outputPath)\n",
    "    plt.show()"
   ]
  },
  {
   "cell_type": "code",
   "execution_count": 81,
   "id": "318c3da7-c3e4-4196-a41d-7dfc1574a7c1",
   "metadata": {
    "tags": []
   },
   "outputs": [
    {
     "data": {
      "image/png": "[encoded data removed]",
      "text/plain": [
       "<Figure size 500x500 with 1 Axes>"
      ]
     },
     "metadata": {},
     "output_type": "display_data"
    }
   ],
   "source": [
    "TablePlot(df_ion_name_count, w=5, h=5, outputPath='./table')"
   ]
  },
  {
   "cell_type": "code",
   "execution_count": null,
   "id": "b0de8c75-3fcb-4371-b514-d5aed5023bde",
   "metadata": {},
   "outputs": [],
   "source": []
  }
 ],
 "metadata": {
  "kernelspec": {
   "display_name": "Python 3 (ipykernel)",
   "language": "python",
   "name": "python3"
  },
  "language_info": {
   "codemirror_mode": {
    "name": "ipython",
    "version": 3
   },
   "file_extension": ".py",
   "mimetype": "text/x-python",
   "name": "python",
   "nbconvert_exporter": "python",
   "pygments_lexer": "ipython3",
   "version": "3.10.12"
  }
 },
 "nbformat": 4,
 "nbformat_minor": 5
}
