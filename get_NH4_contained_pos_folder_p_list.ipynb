{
 "cells": [
  {
   "cell_type": "code",
   "execution_count": 1,
   "id": "9f5bd174-533d-4e6b-82b5-efeff6401612",
   "metadata": {
    "tags": []
   },
   "outputs": [],
   "source": [
    "import os\n",
    "from pathlib import Path\n",
    "from multiprocessing import Pool, cpu_count\n",
    "\n",
    "import numpy as np\n",
    "from tqdm import tqdm\n",
    "\n",
    "from package_bond_search_algorithm.algolithm_bond_search_for_NH4 import concat_filter\n"
   ]
  },
  {
   "cell_type": "code",
   "execution_count": 2,
   "id": "7be2124c-2b00-458c-a151-e544e22d7620",
   "metadata": {
    "tags": []
   },
   "outputs": [],
   "source": [
    "from package_bond_search_algorithm.package_file_conversion.nnlist2df import nnlist2df"
   ]
  },
  {
   "cell_type": "code",
   "execution_count": 3,
   "id": "71943cb3-1d6f-48f5-a77d-2cf9cf5415db",
   "metadata": {},
   "outputs": [],
   "source": [
    "def wrap_nnlist2df_and_concat_filter(nnlist_p):\n",
    "    \"\"\"\n",
    "    This func() executes two func()s.: nnlistdf() and concat_filter().\n",
    "\n",
    "    Usage:\n",
    "    ------\n",
    "    wrap_nnlist2df_and_concat_filter(nnlist_p=nnlist_p)\n",
    "\n",
    "    Parameter:\n",
    "    -----------\n",
    "    nnlist_p: str or PosixPath\n",
    "\n",
    "    Return:\n",
    "    -------\n",
    "    bool: True or False\n",
    "    \"\"\"\n",
    "    df_nnlist = nnlist2df(nnlist_p)\n",
    "    bool_ = concat_filter(df_nnlist=df_nnlist)\n",
    "\n",
    "    return bool_"
   ]
  },
  {
   "cell_type": "code",
   "execution_count": 4,
   "id": "cbab7f1a-c3c9-43d1-8f77-927bfb125229",
   "metadata": {},
   "outputs": [
    {
     "name": "stdout",
     "output_type": "stream",
     "text": [
      "len(N_H_existed_poscar_folder_path_list): 210889\n"
     ]
    },
    {
     "name": "stderr",
     "output_type": "stream",
     "text": [
      "100%|█████████████████████████████████████████████████████████████████████████████████████████████████████████████████████| 100/100 [00:00<00:00, 107.56it/s]"
     ]
    },
    {
     "name": "stdout",
     "output_type": "stream",
     "text": [
      "len(ion_contained_poscar_folder_path_list)/len(N_H_existed_poscar_folder_path_list) :20/100\n"
     ]
    },
    {
     "name": "stderr",
     "output_type": "stream",
     "text": [
      "\n"
     ]
    }
   ],
   "source": [
    "# ターゲットとなるイオンの元素種を含むPOSCARのディレクトリパス一覧を取得\n",
    "target_npy_p = '../get_some_speceis_existed_poscar_path_list/N_H_existed_poscar_folder_path_list.npy'\n",
    "N_H_existed_poscar_folder_path_list = np.load(target_npy_p, allow_pickle=True)\n",
    "print(f\"len(N_H_existed_poscar_folder_path_list): {len(N_H_existed_poscar_folder_path_list)}\")\n",
    "######################## For TEST ########################\n",
    "N_H_existed_poscar_folder_path_list = N_H_existed_poscar_folder_path_list[0:100]\n",
    "\n",
    "# ターゲットとなるイオンの元素種を含むPOSCAR.nnlistのディレクトリパス一覧を取得\n",
    "add_str = '/nnlist_5/POSCAR.nnlist'\n",
    "N_H_existed_poscar_nnlist_path_list = [str(p) + add_str for p in N_H_existed_poscar_folder_path_list]\n",
    "\n",
    "# 並列化\n",
    "pp = Pool(cpu_count() - 1)\n",
    "total = len(N_H_existed_poscar_nnlist_path_list)\n",
    "try:\n",
    "    bool_ion_contain = list(tqdm(pp.imap(wrap_nnlist2df_and_concat_filter, N_H_existed_poscar_nnlist_path_list), total=total))\n",
    "finally:\n",
    "    pp.close()\n",
    "    pp.join()\n",
    "\n",
    "# apply filter(:bool_ion_contain) to N_H_existed_poscar_nnlist_path_list\n",
    "ion_contained_poscar_nnlist_path_list = np.array(N_H_existed_poscar_nnlist_path_list)[bool_ion_contain]\n",
    "# get ion contained folder path list\n",
    "ion_contained_poscar_folder_path_list = [Path(os.path.split(Path(os.path.split(Path(p))[0]))[0]) for p in ion_contained_poscar_nnlist_path_list]\n",
    "# save ion contained folder path list as .npy\n",
    "saved_npy_fname = 'NH4_contained_poscar_folder_path_list.npy'\n",
    "np.save(saved_npy_fname, ion_contained_poscar_folder_path_list)\n",
    "# print parcentage\n",
    "print(f\"len(ion_contained_poscar_folder_path_list)/len(N_H_existed_poscar_folder_path_list) :\\\n",
    "{len(ion_contained_poscar_folder_path_list)}/{total}\")\n"
   ]
  }
 ],
 "metadata": {
  "kernelspec": {
   "display_name": "Python 3 (ipykernel)",
   "language": "python",
   "name": "python3"
  },
  "language_info": {
   "codemirror_mode": {
    "name": "ipython",
    "version": 3
   },
   "file_extension": ".py",
   "mimetype": "text/x-python",
   "name": "python",
   "nbconvert_exporter": "python",
   "pygments_lexer": "ipython3",
   "version": "3.10.12"
  }
 },
 "nbformat": 4,
 "nbformat_minor": 5
}
