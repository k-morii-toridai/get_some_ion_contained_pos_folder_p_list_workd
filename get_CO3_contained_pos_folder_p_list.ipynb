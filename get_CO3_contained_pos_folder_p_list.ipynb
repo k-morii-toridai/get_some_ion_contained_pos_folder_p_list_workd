{
 "cells": [
  {
   "cell_type": "markdown",
   "id": "8e9d1f43-6765-4619-b3d3-a905685401d4",
   "metadata": {},
   "source": [
    "### ターゲットとなるイオンの元素種を含むPOSCARのディレクトリパス一覧を取得"
   ]
  },
  {
   "cell_type": "code",
   "execution_count": 1,
   "id": "8ce92f12-248b-4573-9424-3274d91fa82c",
   "metadata": {
    "tags": []
   },
   "outputs": [],
   "source": [
    "import os\n",
    "import numpy as np"
   ]
  },
  {
   "cell_type": "code",
   "execution_count": 2,
   "id": "106fbad1-f20c-4b6c-b0b4-4a6bbbb0fdc5",
   "metadata": {
    "tags": []
   },
   "outputs": [
    {
     "name": "stdout",
     "output_type": "stream",
     "text": [
      "len(C_O_existed_poscar_folder_path_list): 205733\n"
     ]
    }
   ],
   "source": [
    "target_npy_p = '../get_some_speceis_existed_poscar_path_list/C_O_existed_poscar_folder_path_list.npy'\n",
    "C_O_existed_poscar_folder_path_list = np.load(target_npy_p, allow_pickle=True)\n",
    "print(f\"len(C_O_existed_poscar_folder_path_list): {len(C_O_existed_poscar_folder_path_list)}\")"
   ]
  },
  {
   "cell_type": "markdown",
   "id": "afad22e2-d821-447a-9bb2-839ae4a6fb98",
   "metadata": {},
   "source": [
    "### ターゲットとなるイオンの元素種を含むPOSCAR.nnlistのディレクトリパス一覧を取得"
   ]
  },
  {
   "cell_type": "code",
   "execution_count": 3,
   "id": "a485f937-fc68-4568-9254-2596a8bc991a",
   "metadata": {
    "tags": []
   },
   "outputs": [],
   "source": [
    "add_str = '/nnlist_5/POSCAR.nnlist'\n",
    "C_O_existed_poscar_nnlist_path_list = [str(p) + add_str for p in C_O_existed_poscar_folder_path_list]"
   ]
  },
  {
   "cell_type": "markdown",
   "id": "171f3e83-f93b-4e49-97c1-2fc14ba6097b",
   "metadata": {},
   "source": [
    "### 炭酸イオンを含むか否かの判定アルゴリズムとファイル変換packageをダウンロード"
   ]
  },
  {
   "cell_type": "code",
   "execution_count": 4,
   "id": "e47edcf0-391d-492b-9597-ce474358eaf4",
   "metadata": {
    "tags": []
   },
   "outputs": [],
   "source": [
    "from package_bond_search_algorithm.algolithm_bond_search_for_CO3 import concat_filter\n",
    "from package_bond_search_algorithm.package_file_conversion.nnlist2df import nnlist2df"
   ]
  },
  {
   "cell_type": "markdown",
   "id": "2bf413e7-3715-41a2-846a-762ddd88f0cd",
   "metadata": {
    "tags": []
   },
   "source": [
    "#### サンプルの1ファイルでPOSCAR.nnlistをDataFrameに変換できるかテスト"
   ]
  },
  {
   "cell_type": "code",
   "execution_count": 5,
   "id": "49b63590-2c4a-4473-b7d9-f5c588515bcb",
   "metadata": {
    "tags": []
   },
   "outputs": [
    {
     "name": "stdout",
     "output_type": "stream",
     "text": [
      "/mnt/ssd_elecom_c2c_960gb/cif/1/00/00/1000033/nnlist_5/POSCAR.nnlist\n"
     ]
    },
    {
     "data": {
      "text/html": [
       "<div>\n",
       "<style scoped>\n",
       "    .dataframe tbody tr th:only-of-type {\n",
       "        vertical-align: middle;\n",
       "    }\n",
       "\n",
       "    .dataframe tbody tr th {\n",
       "        vertical-align: top;\n",
       "    }\n",
       "\n",
       "    .dataframe thead th {\n",
       "        text-align: right;\n",
       "    }\n",
       "</style>\n",
       "<table border=\"1\" class=\"dataframe\">\n",
       "  <thead>\n",
       "    <tr style=\"text-align: right;\">\n",
       "      <th></th>\n",
       "      <th>central_atom_id</th>\n",
       "      <th>neighboring_atom_id</th>\n",
       "      <th>rel_distance</th>\n",
       "      <th>rel_x</th>\n",
       "      <th>rel_y</th>\n",
       "      <th>rel_z</th>\n",
       "      <th>unitcell_x</th>\n",
       "      <th>unitcell_y</th>\n",
       "      <th>unitcell_z</th>\n",
       "      <th>central_atom_symbol</th>\n",
       "      <th>neighboring_atom_symbol</th>\n",
       "    </tr>\n",
       "  </thead>\n",
       "  <tbody>\n",
       "    <tr>\n",
       "      <th>0</th>\n",
       "      <td>1</td>\n",
       "      <td>1</td>\n",
       "      <td>0.000000</td>\n",
       "      <td>0.000000</td>\n",
       "      <td>0.000000</td>\n",
       "      <td>0.000000</td>\n",
       "      <td>0</td>\n",
       "      <td>0</td>\n",
       "      <td>0</td>\n",
       "      <td>Ba</td>\n",
       "      <td>Ba</td>\n",
       "    </tr>\n",
       "  </tbody>\n",
       "</table>\n",
       "</div>"
      ],
      "text/plain": [
       "  central_atom_id neighboring_atom_id  rel_distance    rel_x    rel_y  \\\n",
       "0               1                   1      0.000000 0.000000 0.000000   \n",
       "\n",
       "     rel_z  unitcell_x  unitcell_y  unitcell_z central_atom_symbol  \\\n",
       "0 0.000000           0           0           0                  Ba   \n",
       "\n",
       "  neighboring_atom_symbol  \n",
       "0                      Ba  "
      ]
     },
     "execution_count": 5,
     "metadata": {},
     "output_type": "execute_result"
    }
   ],
   "source": [
    "nnlist_p = C_O_existed_poscar_nnlist_path_list[8]\n",
    "print(nnlist_p)\n",
    "df_nnlist = nnlist2df(nnlist_p)\n",
    "df_nnlist.head(1)"
   ]
  },
  {
   "cell_type": "markdown",
   "id": "f0ae8e4c-fa9a-4b18-85ec-aa445bead5a2",
   "metadata": {
    "tags": []
   },
   "source": [
    "#### テストとしてalgorithmを用いてPOSCAR.nnlistがCO3を含むか判定"
   ]
  },
  {
   "cell_type": "code",
   "execution_count": 6,
   "id": "82efdaf6-6a9e-49c8-9655-f22b3cc73a61",
   "metadata": {
    "tags": []
   },
   "outputs": [
    {
     "data": {
      "text/plain": [
       "True"
      ]
     },
     "execution_count": 6,
     "metadata": {},
     "output_type": "execute_result"
    }
   ],
   "source": [
    "concat_filter(df_nnlist=df_nnlist)"
   ]
  },
  {
   "cell_type": "markdown",
   "id": "7c2f8c35-bf5a-4e95-8f56-450abce5c4c4",
   "metadata": {},
   "source": [
    "### POSCAR.nnlistをDataFrameに変換する処理と，変換したDataFrameをalgolithmを用いて判定する処理を関数にまとめる"
   ]
  },
  {
   "cell_type": "code",
   "execution_count": 7,
   "id": "0042c35d-99b2-4ac2-8654-9ebf1c5343da",
   "metadata": {
    "tags": []
   },
   "outputs": [],
   "source": [
    "def wrap_nnlist2df_and_concat_filter(nnlist_p):\n",
    "    \"\"\"\n",
    "    This func() executes two func()s.: nnlistdf() and concat_filter().\n",
    "    \n",
    "    Usage:\n",
    "    ------\n",
    "    wrap_nnlist2df_and_concat_filter(nnlist_p=nnlist_p)\n",
    "    \n",
    "    Parameter:\n",
    "    -----------\n",
    "    nnlist_p: str or PosixPath\n",
    "    \n",
    "    Return:\n",
    "    -------\n",
    "    bool: True or False\n",
    "    \"\"\"\n",
    "    df_nnlist = nnlist2df(nnlist_p)\n",
    "    bool_ = concat_filter(df_nnlist=df_nnlist)\n",
    "\n",
    "    return bool_"
   ]
  },
  {
   "cell_type": "code",
   "execution_count": 8,
   "id": "78905fb5-b67f-4cab-9e01-1dbb34e139c0",
   "metadata": {
    "tags": []
   },
   "outputs": [
    {
     "data": {
      "text/plain": [
       "True"
      ]
     },
     "execution_count": 8,
     "metadata": {},
     "output_type": "execute_result"
    }
   ],
   "source": [
    "wrap_nnlist2df_and_concat_filter(nnlist_p=nnlist_p)"
   ]
  },
  {
   "cell_type": "markdown",
   "id": "1c8f8a3d-709e-4956-9c3f-07c4c96720d9",
   "metadata": {},
   "source": [
    "### 処理を並列化"
   ]
  },
  {
   "cell_type": "code",
   "execution_count": 9,
   "id": "1b0723d2-e17d-4c06-9ef8-581f0699b787",
   "metadata": {
    "tags": []
   },
   "outputs": [
    {
     "name": "stderr",
     "output_type": "stream",
     "text": [
      "  0%|                                                                                                                  | 100/205733 [00:00<22:54, 149.61it/s]\n"
     ]
    }
   ],
   "source": [
    "from multiprocessing import Pool, cpu_count\n",
    "from tqdm import tqdm\n",
    "pp = Pool(cpu_count() - 1)\n",
    "total = len(C_O_existed_poscar_nnlist_path_list)\n",
    "try:\n",
    "    bool_ion_contain = list(tqdm(pp.imap(wrap_nnlist2df_and_concat_filter, C_O_existed_poscar_nnlist_path_list[0:100]), total=total))\n",
    "finally:\n",
    "    pp.close()\n",
    "    pp.join()"
   ]
  },
  {
   "cell_type": "code",
   "execution_count": 29,
   "id": "6d83d235-7398-4e43-9bf7-06d29ee7e036",
   "metadata": {
    "tags": []
   },
   "outputs": [],
   "source": [
    "bool_ion_contain[55]"
   ]
  },
  {
   "cell_type": "code",
   "execution_count": 31,
   "id": "5d2bf0d3-de85-45d1-abf9-8d991de64e8b",
   "metadata": {
    "tags": []
   },
   "outputs": [],
   "source": [
    "nan_nnlist_p = C_O_existed_poscar_nnlist_path_list[55]"
   ]
  },
  {
   "cell_type": "code",
   "execution_count": 33,
   "id": "4048ce32-5bbb-4a0d-9128-aef66bd260a0",
   "metadata": {
    "tags": []
   },
   "outputs": [
    {
     "data": {
      "text/plain": [
       "'/mnt/ssd_elecom_c2c_960gb/cif/1/01/10/1011016/nnlist_5/POSCAR.nnlist'"
      ]
     },
     "execution_count": 33,
     "metadata": {},
     "output_type": "execute_result"
    }
   ],
   "source": [
    "nan_nnlist_p"
   ]
  },
  {
   "cell_type": "code",
   "execution_count": null,
   "id": "fff028d1-0ba7-4c6f-b99c-a2cba119dd81",
   "metadata": {},
   "outputs": [],
   "source": []
  },
  {
   "cell_type": "code",
   "execution_count": 32,
   "id": "3bfcde61-3572-4c61-8bfa-18131f7adced",
   "metadata": {
    "tags": []
   },
   "outputs": [],
   "source": [
    "wrap_nnlist2df_and_concat_filter(nnlist_p=nan_nnlist_p)"
   ]
  },
  {
   "cell_type": "code",
   "execution_count": null,
   "id": "756fc5f6-d492-4ab6-887c-9b8b32efa66d",
   "metadata": {},
   "outputs": [],
   "source": []
  },
  {
   "cell_type": "code",
   "execution_count": null,
   "id": "8a5ae71d-be5a-44b6-8ab7-31fa9429f735",
   "metadata": {},
   "outputs": [],
   "source": []
  },
  {
   "cell_type": "code",
   "execution_count": 14,
   "id": "e3fc3f54-9c9d-49f7-9dff-d097435c6a45",
   "metadata": {
    "tags": []
   },
   "outputs": [
    {
     "ename": "IndexError",
     "evalue": "only integers, slices (`:`), ellipsis (`...`), numpy.newaxis (`None`) and integer or boolean arrays are valid indices",
     "output_type": "error",
     "traceback": [
      "\u001b[0;31m---------------------------------------------------------------------------\u001b[0m",
      "\u001b[0;31mIndexError\u001b[0m                                Traceback (most recent call last)",
      "Cell \u001b[0;32mIn[14], line 1\u001b[0m\n\u001b[0;32m----> 1\u001b[0m \u001b[43mnp\u001b[49m\u001b[38;5;241;43m.\u001b[39;49m\u001b[43marray\u001b[49m\u001b[43m(\u001b[49m\u001b[43mC_O_existed_poscar_nnlist_path_list\u001b[49m\u001b[43m[\u001b[49m\u001b[38;5;241;43m0\u001b[39;49m\u001b[43m:\u001b[49m\u001b[38;5;241;43m100\u001b[39;49m\u001b[43m]\u001b[49m\u001b[43m)\u001b[49m\u001b[43m[\u001b[49m\u001b[43mbool_ion_contain\u001b[49m\u001b[43m]\u001b[49m\n",
      "\u001b[0;31mIndexError\u001b[0m: only integers, slices (`:`), ellipsis (`...`), numpy.newaxis (`None`) and integer or boolean arrays are valid indices"
     ]
    }
   ],
   "source": [
    "np.array(C_O_existed_poscar_nnlist_path_list[0:100])[bool_ion_contain]"
   ]
  },
  {
   "cell_type": "code",
   "execution_count": 10,
   "id": "c0c97082-4095-47e5-82d9-f4ac55b1ecf7",
   "metadata": {
    "tags": []
   },
   "outputs": [
    {
     "ename": "IndexError",
     "evalue": "only integers, slices (`:`), ellipsis (`...`), numpy.newaxis (`None`) and integer or boolean arrays are valid indices",
     "output_type": "error",
     "traceback": [
      "\u001b[0;31m---------------------------------------------------------------------------\u001b[0m",
      "\u001b[0;31mIndexError\u001b[0m                                Traceback (most recent call last)",
      "Cell \u001b[0;32mIn[10], line 1\u001b[0m\n\u001b[0;32m----> 1\u001b[0m ion_contained_poscar_nnlist_path_list \u001b[38;5;241m=\u001b[39m \u001b[43mnp\u001b[49m\u001b[38;5;241;43m.\u001b[39;49m\u001b[43marray\u001b[49m\u001b[43m(\u001b[49m\u001b[43mC_O_existed_poscar_nnlist_path_list\u001b[49m\u001b[43m[\u001b[49m\u001b[38;5;241;43m0\u001b[39;49m\u001b[43m:\u001b[49m\u001b[38;5;241;43m100\u001b[39;49m\u001b[43m]\u001b[49m\u001b[43m)\u001b[49m\u001b[43m[\u001b[49m\u001b[43mbool_ion_contain\u001b[49m\u001b[43m]\u001b[49m\n\u001b[1;32m      2\u001b[0m \u001b[38;5;28;01mfrom\u001b[39;00m \u001b[38;5;21;01mpathlib\u001b[39;00m \u001b[38;5;28;01mimport\u001b[39;00m Path\n\u001b[1;32m      3\u001b[0m ion_contained_poscar_folder_path_list \u001b[38;5;241m=\u001b[39m [Path(os\u001b[38;5;241m.\u001b[39mpath\u001b[38;5;241m.\u001b[39msplit(Path(os\u001b[38;5;241m.\u001b[39mpath\u001b[38;5;241m.\u001b[39msplit(Path(p))[\u001b[38;5;241m0\u001b[39m]))[\u001b[38;5;241m0\u001b[39m]) \u001b[38;5;28;01mfor\u001b[39;00m p \u001b[38;5;129;01min\u001b[39;00m ion_contained_poscar_nnlist_path_list]\n",
      "\u001b[0;31mIndexError\u001b[0m: only integers, slices (`:`), ellipsis (`...`), numpy.newaxis (`None`) and integer or boolean arrays are valid indices"
     ]
    }
   ],
   "source": [
    "ion_contained_poscar_nnlist_path_list = np.array(C_O_existed_poscar_nnlist_path_list[0:100])[bool_ion_contain]\n",
    "from pathlib import Path\n",
    "ion_contained_poscar_folder_path_list = [Path(os.path.split(Path(os.path.split(Path(p))[0]))[0]) for p in ion_contained_poscar_nnlist_path_list]"
   ]
  },
  {
   "cell_type": "markdown",
   "id": "1f848364-4ba9-4838-b9c4-7aaebadb8c5e",
   "metadata": {},
   "source": [
    "### ion_contained_poscar_folder_path_listを保存"
   ]
  },
  {
   "cell_type": "code",
   "execution_count": 108,
   "id": "106bbec7-22f0-47c6-8141-24e167d3c1c3",
   "metadata": {
    "tags": []
   },
   "outputs": [],
   "source": [
    "saved_npy_fname = 'CO3_contained_poscar_folder_path_list.npy'\n",
    "np.save(saved_npy_fname, ion_contained_poscar_folder_path_list)"
   ]
  },
  {
   "cell_type": "markdown",
   "id": "5d08fa07-e24d-4536-a26e-cee32c8ea6a3",
   "metadata": {},
   "source": [
    "### 保存した.npyファイルをload"
   ]
  },
  {
   "cell_type": "code",
   "execution_count": 109,
   "id": "636bd99b-52c2-46f2-8a5e-e952e71a38c1",
   "metadata": {
    "tags": []
   },
   "outputs": [
    {
     "data": {
      "text/plain": [
       "array([PosixPath('/mnt/ssd_elecom_c2c_960gb/cif/1/00/00/1000033'),\n",
       "       PosixPath('/mnt/ssd_elecom_c2c_960gb/cif/1/00/00/1000052'),\n",
       "       PosixPath('/mnt/ssd_elecom_c2c_960gb/cif/1/00/03/1000320'),\n",
       "       PosixPath('/mnt/ssd_elecom_c2c_960gb/cif/1/00/03/1000330'),\n",
       "       PosixPath('/mnt/ssd_elecom_c2c_960gb/cif/1/00/03/1000331'),\n",
       "       PosixPath('/mnt/ssd_elecom_c2c_960gb/cif/1/00/03/1000361'),\n",
       "       PosixPath('/mnt/ssd_elecom_c2c_960gb/cif/1/00/03/1000362'),\n",
       "       PosixPath('/mnt/ssd_elecom_c2c_960gb/cif/1/00/03/1000372'),\n",
       "       PosixPath('/mnt/ssd_elecom_c2c_960gb/cif/1/00/03/1000394'),\n",
       "       PosixPath('/mnt/ssd_elecom_c2c_960gb/cif/1/00/04/1000450'),\n",
       "       PosixPath('/mnt/ssd_elecom_c2c_960gb/cif/1/00/04/1000459'),\n",
       "       PosixPath('/mnt/ssd_elecom_c2c_960gb/cif/1/00/04/1000471'),\n",
       "       PosixPath('/mnt/ssd_elecom_c2c_960gb/cif/1/00/04/1000477'),\n",
       "       PosixPath('/mnt/ssd_elecom_c2c_960gb/cif/1/00/70/1007035'),\n",
       "       PosixPath('/mnt/ssd_elecom_c2c_960gb/cif/1/01/02/1010212')],\n",
       "      dtype=object)"
      ]
     },
     "execution_count": 109,
     "metadata": {},
     "output_type": "execute_result"
    }
   ],
   "source": [
    "np.load(saved_npy_fname, allow_pickle=True)"
   ]
  },
  {
   "cell_type": "code",
   "execution_count": 2,
   "id": "33f28373-fe92-4892-8b27-53ad4423d58b",
   "metadata": {
    "tags": []
   },
   "outputs": [
    {
     "ename": "NameError",
     "evalue": "name 'ion_contained_poscar_folder_path_list' is not defined",
     "output_type": "error",
     "traceback": [
      "\u001b[0;31m---------------------------------------------------------------------------\u001b[0m",
      "\u001b[0;31mNameError\u001b[0m                                 Traceback (most recent call last)",
      "Cell \u001b[0;32mIn[2], line 1\u001b[0m\n\u001b[0;32m----> 1\u001b[0m \u001b[43mion_contained_poscar_folder_path_list\u001b[49m\n",
      "\u001b[0;31mNameError\u001b[0m: name 'ion_contained_poscar_folder_path_list' is not defined"
     ]
    }
   ],
   "source": [
    "ion_contained_poscar_folder_path_list"
   ]
  },
  {
   "cell_type": "code",
   "execution_count": 13,
   "id": "d7ef2979-1b23-4d36-8a65-22891b1103e9",
   "metadata": {
    "tags": []
   },
   "outputs": [
    {
     "name": "stdout",
     "output_type": "stream",
     "text": [
      "len(ion_contained_poscar_folder_path_list)/len(C_O_existed_poscar_folder_path_list) :15/205733\n"
     ]
    }
   ],
   "source": [
    "print(f\"len(ion_contained_poscar_folder_path_list)/len(C_O_existed_poscar_folder_path_list) :\\\n",
    "{len(ion_contained_poscar_folder_path_list)}/{total}\")"
   ]
  },
  {
   "cell_type": "code",
   "execution_count": null,
   "id": "1b267018-6f72-4f8c-8d61-7b6137a180a4",
   "metadata": {},
   "outputs": [],
   "source": []
  }
 ],
 "metadata": {
  "kernelspec": {
   "display_name": "Python 3 (ipykernel)",
   "language": "python",
   "name": "python3"
  },
  "language_info": {
   "codemirror_mode": {
    "name": "ipython",
    "version": 3
   },
   "file_extension": ".py",
   "mimetype": "text/x-python",
   "name": "python",
   "nbconvert_exporter": "python",
   "pygments_lexer": "ipython3",
   "version": "3.10.12"
  }
 },
 "nbformat": 4,
 "nbformat_minor": 5
}
