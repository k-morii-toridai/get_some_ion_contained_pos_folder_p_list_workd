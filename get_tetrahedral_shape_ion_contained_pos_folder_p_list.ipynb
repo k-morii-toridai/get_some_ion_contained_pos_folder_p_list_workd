{
 "cells": [
  {
   "cell_type": "code",
   "execution_count": 10,
   "id": "50f9c8b6-9c37-4268-8583-d8ec111a6d9d",
   "metadata": {
    "tags": []
   },
   "outputs": [],
   "source": [
    "import os\n",
    "import argparse\n",
    "from pathlib import Path\n",
    "from multiprocessing import Pool, cpu_count\n",
    "\n",
    "import numpy as np\n",
    "from tqdm import tqdm\n",
    "\n",
    "from package_bond_search_algorithm.algolithm_bond_search_for_tetrahedral_shape import concat_filter\n",
    "from package_bond_search_algorithm.package_file_conversion.nnlist2df import nnlist2df"
   ]
  },
  {
   "cell_type": "code",
   "execution_count": 2,
   "id": "6224add4-65d5-4cdf-b4dd-86b53c244932",
   "metadata": {
    "tags": []
   },
   "outputs": [],
   "source": [
    "central_atom_symbol = 'N'\n",
    "neighboring_atom_symbol = 'H' \n",
    "bond_length_lower_end = 0.82\n",
    "bond_length_upper_end = 1.24\n",
    "# ターゲットとなるイオンの元素種を含むPOSCARのディレクトリパス一覧を取得\n",
    "target_npy_p = '../get_some_speceis_existed_poscar_path_list/N_H_existed_poscar_folder_path_list.npy'\n",
    "some_species_existed_poscar_folder_path_list = np.load(target_npy_p, allow_pickle=True)\n",
    "print(f\"len(some_species_existed_poscar_folder_path_list): {len(some_species_existed_poscar_folder_path_list)}\")\n",
    "some_species_existed_poscar_folder_path_list = some_species_existed_poscar_folder_path_list[0:100]"
   ]
  },
  {
   "cell_type": "code",
   "execution_count": 3,
   "id": "5eb6e3f0-9e68-482d-b81f-ea2755086e33",
   "metadata": {
    "tags": []
   },
   "outputs": [],
   "source": [
    "def nnlist2df_and_concat_filter(nnlist_path, central_atom_symbol, neighboring_atom_symbol, bond_length_lower_end, bond_length_upper_end):\n",
    "    df_nnlist = nnlist2df(nnlist_path=nnlist_path)\n",
    "    return_bool = concat_filter(df_nnlist=df_nnlist, \n",
    "                                central_atom_symbol=central_atom_symbol,\n",
    "                                neighboring_atom_symbol=neighboring_atom_symbol,\n",
    "                                bond_length_lower_end=bond_length_lower_end,\n",
    "                                bond_length_upper_end=bond_length_upper_end)\n",
    "    return return_bool\n",
    "\n",
    "\n",
    "def wrap_nnlist2df_and_concat_filter(args):\n",
    "    return nnlist2df_and_concat_filter(*args)\n",
    "\n",
    "\n",
    "def mk_job_args(some_species_existed_nnlist_folder_p_list, central_atom_symbol, neighboring_atom_symbol, bond_length_lower_end, bond_length_upper_end):\n",
    "    # ターゲットとなるイオンの元素種を含むPOSCAR.nnlistのディレクトリパス一覧を取得\n",
    "    add_str = '/nnlist_5/POSCAR.nnlist'\n",
    "    some_species_existed_nnlist_p_list = [str(p) + add_str for p in some_species_existed_nnlist_folder_p_list]\n",
    "    number_of_nnlist = len(some_species_existed_nnlist_folder_p_list)\n",
    "    central_atom_symbol_list = [central_atom_symbol for i in range(number_of_nnlist)]\n",
    "    neighboring_atom_symbol_list = [neighboring_atom_symbol for i in range(number_of_nnlist)]\n",
    "    bond_length_lower_end_list = [bond_length_lower_end for i in range(number_of_nnlist)]\n",
    "    bond_length_upper_end_list = [bond_length_upper_end for i in range(number_of_nnlist)]\n",
    "    job_args = zip(some_species_existed_nnlist_p_list,\n",
    "                   central_atom_symbol_list,\n",
    "                   neighboring_atom_symbol_list,\n",
    "                   bond_length_lower_end_list,\n",
    "                   bond_length_upper_end_list)\n",
    "    return job_args    "
   ]
  },
  {
   "cell_type": "code",
   "execution_count": 5,
   "id": "30b196d9-40a2-414c-883a-9207a7a36890",
   "metadata": {
    "tags": []
   },
   "outputs": [],
   "source": [
    "job_args = mk_job_args(some_species_existed_poscar_folder_path_list,\n",
    "                       central_atom_symbol=central_atom_symbol,\n",
    "                       neighboring_atom_symbol=neighboring_atom_symbol,\n",
    "                       bond_length_lower_end=bond_length_lower_end,\n",
    "                       bond_length_upper_end=bond_length_upper_end)"
   ]
  },
  {
   "cell_type": "code",
   "execution_count": 7,
   "id": "c3453c6a-08a0-4fdb-b4bc-178d9676f38c",
   "metadata": {
    "tags": []
   },
   "outputs": [
    {
     "name": "stderr",
     "output_type": "stream",
     "text": [
      "100%|█████████████████████████████████████████████████████████████████████████████████████████████████████████████████████| 100/100 [00:00<00:00, 119.66it/s]\n"
     ]
    }
   ],
   "source": [
    "# 並列化\n",
    "pp = Pool(cpu_count() - 1)\n",
    "total = len(some_species_existed_poscar_folder_path_list)\n",
    "try:\n",
    "    bool_ion_contain = list(tqdm(pp.imap(wrap_nnlist2df_and_concat_filter, job_args), total=total))\n",
    "finally:\n",
    "    pp.close()\n",
    "    pp.join()"
   ]
  },
  {
   "cell_type": "code",
   "execution_count": 9,
   "id": "c4eace60-6a8f-4f1f-9881-3fa01c87a162",
   "metadata": {
    "tags": []
   },
   "outputs": [
    {
     "name": "stdout",
     "output_type": "stream",
     "text": [
      "len(ion_contained_poscar_folder_path_list)/len(N_H_existed_poscar_folder_path_list) :11/100\n"
     ]
    }
   ],
   "source": [
    "# apply filter(:bool_ion_contain) to N_H_existed_poscar_nnlist_path_list\n",
    "ion_contained_poscar_nnlist_path_list = np.array(some_species_existed_poscar_folder_path_list)[bool_ion_contain]\n",
    "# get ion contained folder path list\n",
    "ion_contained_poscar_folder_path_list = [Path(os.path.split(Path(os.path.split(Path(p))[0]))[0]) for p in ion_contained_poscar_nnlist_path_list]\n",
    "# save ion contained folder path list as .npy\n",
    "saved_npy_fname = 'NH4_contained_poscar_folder_path_list_ver2.npy'\n",
    "np.save(saved_npy_fname, ion_contained_poscar_folder_path_list)\n",
    "# print parcentage\n",
    "print(f\"len(ion_contained_poscar_folder_path_list)/len(N_H_existed_poscar_folder_path_list) :\\\n",
    "{len(ion_contained_poscar_folder_path_list)}/{total}\")"
   ]
  },
  {
   "cell_type": "code",
   "execution_count": null,
   "id": "fc9e6c5e-a0da-44b4-abac-a09fff2a39eb",
   "metadata": {},
   "outputs": [],
   "source": []
  },
  {
   "cell_type": "code",
   "execution_count": null,
   "id": "5aa8fb97-408e-4bae-928c-5f0002c373c2",
   "metadata": {},
   "outputs": [],
   "source": []
  },
  {
   "cell_type": "code",
   "execution_count": null,
   "id": "c68523f9-3749-417c-869a-47a4f5320eb8",
   "metadata": {},
   "outputs": [],
   "source": [
    "# def wrap_nnlist2df_and_concat_filter(nnlist_p):\n",
    "#     \"\"\"\n",
    "#     This func() executes two func()s.: nnlistdf() and concat_filter().\n",
    "\n",
    "#     Usage:\n",
    "#     ------\n",
    "#     wrap_nnlist2df_and_concat_filter(nnlist_p=nnlist_p)\n",
    "\n",
    "#     Parameter:\n",
    "#     -----------\n",
    "#     nnlist_p: str or PosixPath\n",
    "\n",
    "#     Return:\n",
    "#     -------\n",
    "#     bool: True or False\n",
    "#     \"\"\"\n",
    "#     df_nnlist = nnlist2df(nnlist_p)\n",
    "#     bool_ = concat_filter(df_nnlist=df_nnlist)\n",
    "\n",
    "#     return bool_\n",
    "\n",
    "\n",
    "# ターゲットとなるイオンの元素種を含むPOSCARのディレクトリパス一覧を取得\n",
    "target_npy_p = '../get_some_speceis_existed_poscar_path_list/N_H_existed_poscar_folder_path_list.npy'\n",
    "N_H_existed_poscar_folder_path_list = np.load(target_npy_p, allow_pickle=True)\n",
    "print(f\"len(N_H_existed_poscar_folder_path_list): {len(N_H_existed_poscar_folder_path_list)}\")\n",
    "N_H_existed_poscar_folder_path_list = N_H_existed_poscar_folder_path_list\n",
    "\n",
    "# ターゲットとなるイオンの元素種を含むPOSCAR.nnlistのディレクトリパス一覧を取得\n",
    "add_str = '/nnlist_5/POSCAR.nnlist'\n",
    "N_H_existed_poscar_nnlist_path_list = [str(p) + add_str for p in N_H_existed_poscar_folder_path_list]\n",
    "\n",
    "# 並列化\n",
    "pp = Pool(cpu_count() - 1)\n",
    "total = len(N_H_existed_poscar_nnlist_path_list)\n",
    "try:\n",
    "    bool_ion_contain = list(tqdm(pp.imap(wrap_nnlist2df_and_concat_filter, N_H_existed_poscar_nnlist_path_list), total=total))\n",
    "finally:\n",
    "    pp.close()\n",
    "    pp.join()\n",
    "\n",
    "# apply filter(:bool_ion_contain) to N_H_existed_poscar_nnlist_path_list\n",
    "ion_contained_poscar_nnlist_path_list = np.array(N_H_existed_poscar_nnlist_path_list)[bool_ion_contain]\n",
    "# get ion contained folder path list\n",
    "ion_contained_poscar_folder_path_list = [Path(os.path.split(Path(os.path.split(Path(p))[0]))[0]) for p in ion_contained_poscar_nnlist_path_list]\n",
    "# save ion contained folder path list as .npy\n",
    "saved_npy_fname = 'NH4_contained_poscar_folder_path_list.npy'\n",
    "np.save(saved_npy_fname, ion_contained_poscar_folder_path_list)\n",
    "# print parcentage\n",
    "print(f\"len(ion_contained_poscar_folder_path_list)/len(N_H_existed_poscar_folder_path_list) :\\\n",
    "{len(ion_contained_poscar_folder_path_list)}/{total}\")\n"
   ]
  }
 ],
 "metadata": {
  "kernelspec": {
   "display_name": "Python 3 (ipykernel)",
   "language": "python",
   "name": "python3"
  },
  "language_info": {
   "codemirror_mode": {
    "name": "ipython",
    "version": 3
   },
   "file_extension": ".py",
   "mimetype": "text/x-python",
   "name": "python",
   "nbconvert_exporter": "python",
   "pygments_lexer": "ipython3",
   "version": "3.10.12"
  }
 },
 "nbformat": 4,
 "nbformat_minor": 5
}
